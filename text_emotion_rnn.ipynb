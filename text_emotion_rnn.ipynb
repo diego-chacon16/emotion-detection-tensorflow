{
 "cells": [
  {
   "cell_type": "markdown",
   "id": "0cb57e8a-ff9e-48a8-a172-c5639c1b646a",
   "metadata": {},
   "source": [
    "# Tweet Emotion Recognition: Natural Language Processing with TensorFlow\n",
    "\n",
    "---\n",
    "\n",
    "#### Dataset: [Tweet Emotion Dataset](https://github.com/dair-ai/emotion_dataset)\n",
    "#### Notebook for the Project in the Course [Tweet Emotion Recognition with TensorFlow](https://www.coursera.org/projects/tweet-emotion-tensorflow)"
   ]
  },
  {
   "cell_type": "markdown",
   "id": "e755b284-f09d-49c0-9a3f-9f0e47a0807f",
   "metadata": {},
   "source": [
    "## Setup and imports\n",
    "\n",
    "1. Install Hugging Face's nlp package\n",
    "2. Import libraries"
   ]
  },
  {
   "cell_type": "code",
   "execution_count": 1,
   "id": "5c9389f3-6d6e-4f15-922d-14142ebf450e",
   "metadata": {},
   "outputs": [],
   "source": [
    "# importing libraries\n",
    "\n",
    "import tensorflow as tf\n",
    "import numpy as np\n",
    "import matplotlib.pyplot as plt\n",
    "import nlp\n",
    "import random"
   ]
  },
  {
   "cell_type": "code",
   "execution_count": 2,
   "id": "701d2a07-9024-40d5-a811-43ebc69329a3",
   "metadata": {},
   "outputs": [
    {
     "name": "stdout",
     "output_type": "stream",
     "text": [
      "Using TensorFlow version 2.7.0\n"
     ]
    }
   ],
   "source": [
    "# creating a function to a line graph representing the historical progress of training and validation accuracy and loss\n",
    "\n",
    "def show_history(h):\n",
    "    epochs_trained = len(h.history['loss'])\n",
    "    plt.figure(figsize=(16, 6))\n",
    "\n",
    "    plt.subplot(1, 2, 1)\n",
    "    plt.plot(range(0, epochs_trained), h.history.get('accuracy'), label='Training') # range from 0 to the last epoch, historical representation of accuracy in the training dataset\n",
    "    plt.plot(range(0, epochs_trained), h.history.get('val_accuracy'), label='Validation') # range from 0 to the last epoch, historical representation of validation accuracy in the training dataset\n",
    "    plt.ylim([0., 1.])\n",
    "    plt.xlabel('Epochs')\n",
    "    plt.ylabel('Accuracy')\n",
    "    plt.legend()\n",
    "\n",
    "    plt.subplot(1, 2, 2)\n",
    "    plt.plot(range(0, epochs_trained), h.history.get('loss'), label='Training') # range from 0 to the last epoch, historical representation of loss in the training dataset\n",
    "    plt.plot(range(0, epochs_trained), h.history.get('val_loss'), label='Validation') # range from 0 to the last epoch, historical representation of validation loss in the training dataset\n",
    "    plt.xlabel('Epochs')\n",
    "    plt.ylabel('Loss')\n",
    "    plt.legend()\n",
    "    plt.show()\n",
    "\n",
    "    \n",
    "def show_confusion_matrix(y_true, y_pred, classes):\n",
    "    from sklearn.metrics import confusion_matrix\n",
    "    \n",
    "    cm = confusion_matrix(y_true, y_pred, normalize='true') # passing in the true values and predicted in the confusion matrix\n",
    "\n",
    "    plt.figure(figsize=(8, 8))\n",
    "    sp = plt.subplot(1, 1, 1)\n",
    "    ctx = sp.matshow(cm)\n",
    "    plt.xticks(list(range(0, 6)), labels=classes) # passing in the six emotions as the labels\n",
    "    plt.yticks(list(range(0, 6)), labels=classes) # passing in the six emotions as the labels\n",
    "    plt.colorbar(ctx)\n",
    "    plt.show()\n",
    "\n",
    "    \n",
    "print('Using TensorFlow version', tf.__version__)"
   ]
  },
  {
   "cell_type": "markdown",
   "id": "cd95c087-9f7b-4044-a3f5-f9378cbc358c",
   "metadata": {},
   "source": [
    "## Importing Data\n",
    "\n",
    "1. Import Tweet Emotion dataset\n",
    "2. Create train, validation and test sets\n",
    "3. Extracting tweets and labels from the examples"
   ]
  },
  {
   "cell_type": "code",
   "execution_count": 3,
   "id": "3cb6ec87-1d63-4635-ba16-79e4220dd8c4",
   "metadata": {},
   "outputs": [
    {
     "name": "stderr",
     "output_type": "stream",
     "text": [
      "Using custom data configuration default\n"
     ]
    },
    {
     "data": {
      "text/plain": [
       "{'train': Dataset(features: {'text': Value(dtype='string', id=None), 'label': Value(dtype='string', id=None)}, num_rows: 16000),\n",
       " 'validation': Dataset(features: {'text': Value(dtype='string', id=None), 'label': Value(dtype='string', id=None)}, num_rows: 2000),\n",
       " 'test': Dataset(features: {'text': Value(dtype='string', id=None), 'label': Value(dtype='string', id=None)}, num_rows: 2000)}"
      ]
     },
     "execution_count": 3,
     "metadata": {},
     "output_type": "execute_result"
    }
   ],
   "source": [
    "dataset = nlp.load_dataset('emotion') # loading the HuggingFace nlp dataset\n",
    "dataset"
   ]
  },
  {
   "cell_type": "code",
   "execution_count": 4,
   "id": "564c6a2e-fa5d-491d-91e2-7c9138915bf0",
   "metadata": {},
   "outputs": [],
   "source": [
    "train = dataset['train'] # assigning the training dataset to a variable\n",
    "val = dataset['validation'] # assigning the validation dataset to a variable\n",
    "test = dataset['test'] # assigning the test dataset to a variable"
   ]
  },
  {
   "cell_type": "code",
   "execution_count": 5,
   "id": "93d2c434-810e-46ec-84f9-548c8ab0ac8f",
   "metadata": {},
   "outputs": [],
   "source": [
    "# creating a function to pass in the text and assinging to tweets or X and the emotions assigned to labels or y\n",
    "\n",
    "def get_tweet(data):\n",
    "    tweets =[x['text'] for x in data]\n",
    "    labels = [x['label'] for x in data]\n",
    "    return tweets, labels"
   ]
  },
  {
   "cell_type": "code",
   "execution_count": 6,
   "id": "130cddc7-70e3-4f69-bd84-a579d5315730",
   "metadata": {},
   "outputs": [],
   "source": [
    "tweets, labels = get_tweet(train) # passing the training model through the function now we have X and y"
   ]
  },
  {
   "cell_type": "code",
   "execution_count": 7,
   "id": "36e76ea6-da8b-45f3-b0d2-a7b7887e3af2",
   "metadata": {},
   "outputs": [
    {
     "data": {
      "text/plain": [
       "('i didnt feel humiliated', 'sadness')"
      ]
     },
     "execution_count": 7,
     "metadata": {},
     "output_type": "execute_result"
    }
   ],
   "source": [
    "tweets[0], labels[0] # getting the first sentence, and emotion"
   ]
  },
  {
   "cell_type": "markdown",
   "id": "7dc9f534-a7c1-419e-a40c-f5d97ca657bc",
   "metadata": {},
   "source": [
    "## Keras Tokenizer\n",
    "\n",
    "1. Tokenize tweets"
   ]
  },
  {
   "cell_type": "code",
   "execution_count": 8,
   "id": "51b71869-519c-4079-a940-ce187a49638e",
   "metadata": {},
   "outputs": [],
   "source": [
    "from tensorflow.keras.preprocessing.text import Tokenizer # importing Tokenizer from keras"
   ]
  },
  {
   "cell_type": "code",
   "execution_count": 9,
   "id": "32cc128d-6faf-4221-b3fd-22fbec65f9de",
   "metadata": {},
   "outputs": [],
   "source": [
    "tokenizer = Tokenizer(num_words=10000, oov_token='<UNK>')\n",
    "tokenizer.fit_on_texts(tweets) # fitting the tweets to the tokenizer, words will not be represented by a number (id)"
   ]
  },
  {
   "cell_type": "code",
   "execution_count": 10,
   "id": "66897cb3-3620-4329-89ad-23e942384530",
   "metadata": {},
   "outputs": [
    {
     "data": {
      "text/plain": [
       "[[2, 139, 3, 679]]"
      ]
     },
     "execution_count": 10,
     "metadata": {},
     "output_type": "execute_result"
    }
   ],
   "source": [
    "tokenizer.texts_to_sequences([tweets[0]]) # the words i didnt feel humiliated now in numbers"
   ]
  },
  {
   "cell_type": "code",
   "execution_count": 11,
   "id": "66541d04-74fa-4f11-afdd-0cf138e2a45e",
   "metadata": {},
   "outputs": [
    {
     "data": {
      "text/plain": [
       "(array([  8.,  45., 310., 488., 539., 625., 626., 629., 613., 636., 654.,\n",
       "        655., 608., 622., 609., 603., 559., 535., 530., 510., 452., 430.,\n",
       "        382., 385., 330., 327., 336., 317., 238., 208., 200., 200., 167.,\n",
       "        157., 141., 144., 120., 117., 117.,  88.,  96.,  72.,  66.,  66.,\n",
       "         65.,  52.,  37.,  43.,  30.,  32.,  31.,  26.,  30.,  20.,  23.,\n",
       "         14.,   9.,  10.,   4.,   4.,   4.,   1.,   4.,   1.]),\n",
       " array([ 2.,  3.,  4.,  5.,  6.,  7.,  8.,  9., 10., 11., 12., 13., 14.,\n",
       "        15., 16., 17., 18., 19., 20., 21., 22., 23., 24., 25., 26., 27.,\n",
       "        28., 29., 30., 31., 32., 33., 34., 35., 36., 37., 38., 39., 40.,\n",
       "        41., 42., 43., 44., 45., 46., 47., 48., 49., 50., 51., 52., 53.,\n",
       "        54., 55., 56., 57., 58., 59., 60., 61., 62., 63., 64., 65., 66.]),\n",
       " <BarContainer object of 64 artists>)"
      ]
     },
     "execution_count": 11,
     "metadata": {},
     "output_type": "execute_result"
    },
    {
     "data": {
      "image/png": "[encoded data removed]",
      "text/plain": [
       "<Figure size 432x288 with 1 Axes>"
      ]
     },
     "metadata": {
      "needs_background": "light"
     },
     "output_type": "display_data"
    }
   ],
   "source": [
    "lengths = [len(t.split(' '))for t in tweets] # understanding the breakdown of words by tweet\n",
    "plt.hist(lengths, bins=len(set(lengths)))"
   ]
  },
  {
   "cell_type": "markdown",
   "id": "15cea315-0cb2-4d49-9e8e-712241e3f769",
   "metadata": {},
   "source": [
    "## Padding and Truncating Sequences\n",
    "\n",
    "1. Check length of tweets\n",
    "2. Create padded sequences"
   ]
  },
  {
   "cell_type": "code",
   "execution_count": 12,
   "id": "7f05e09e-8013-4db7-aabc-c0bb8507c6a9",
   "metadata": {},
   "outputs": [],
   "source": [
    "# based on the graph above, setting the max length of words to be 50\n",
    "\n",
    "maxlen = 50\n",
    "\n",
    "from tensorflow.keras.preprocessing.sequence import pad_sequences"
   ]
  },
  {
   "cell_type": "code",
   "execution_count": 13,
   "id": "12864deb-0d17-4c3c-97a0-308af70018b6",
   "metadata": {},
   "outputs": [],
   "source": [
    "# function to get sequences for our different sets\n",
    "\n",
    "def get_sequences(tokenizer, tweets):\n",
    "    sequences = tokenizer.texts_to_sequences(tweets) # getting the sequences and passing all of the tweets in the dataset\n",
    "    padded = pad_sequences(sequences, truncating ='post', padding ='post', maxlen = maxlen) # passing the sequences, truncating at the end of the sequence and padding any empty slots since the max length is 50\n",
    "    return padded"
   ]
  },
  {
   "cell_type": "code",
   "execution_count": 14,
   "id": "beb2ae0b-af04-467a-9b56-62d677e64e6d",
   "metadata": {},
   "outputs": [],
   "source": [
    "padded_train_seq = get_sequences(tokenizer, tweets) # passing in tokenizer and tweets to get sequences"
   ]
  },
  {
   "cell_type": "code",
   "execution_count": 15,
   "id": "c2529d5c-cf04-4198-806a-e786c1dc8a95",
   "metadata": {},
   "outputs": [
    {
     "data": {
      "text/plain": [
       "array([  2, 139,   3, 679,   0,   0,   0,   0,   0,   0,   0,   0,   0,\n",
       "         0,   0,   0,   0,   0,   0,   0,   0,   0,   0,   0,   0,   0,\n",
       "         0,   0,   0,   0,   0,   0,   0,   0,   0,   0,   0,   0,   0,\n",
       "         0,   0,   0,   0,   0,   0,   0,   0,   0,   0,   0])"
      ]
     },
     "execution_count": 15,
     "metadata": {},
     "output_type": "execute_result"
    }
   ],
   "source": [
    "padded_train_seq[0] # the first tweet only had 4 words, therefore it has 46 words padded"
   ]
  },
  {
   "cell_type": "markdown",
   "id": "2b10be4d-a4f5-4df9-855b-63ecde1178a4",
   "metadata": {},
   "source": [
    "## Preparing the Labels\n",
    "\n",
    "1. Creating classes to index and index to classes dictionaries (Emotions)\n",
    "2. Converting text labels to numeric labels"
   ]
  },
  {
   "cell_type": "code",
   "execution_count": 16,
   "id": "17375403-8f58-4fe1-b078-0252b1432e75",
   "metadata": {},
   "outputs": [
    {
     "name": "stdout",
     "output_type": "stream",
     "text": [
      "{'love', 'anger', 'sadness', 'fear', 'joy', 'surprise'}\n"
     ]
    }
   ],
   "source": [
    "classes = set(labels) # setting the emotions as classes\n",
    "print(classes)"
   ]
  },
  {
   "cell_type": "code",
   "execution_count": 17,
   "id": "ce0a7c12-643f-4d5f-9daf-b30da84829d6",
   "metadata": {},
   "outputs": [],
   "source": [
    "class_to_index = dict((c,i) for i, c in enumerate(classes))\n",
    "index_to_class = dict((v,k) for k, v in class_to_index.items())"
   ]
  },
  {
   "cell_type": "markdown",
   "id": "05b7bfa9-c2c2-47cf-9d5e-062bc05b6fc9",
   "metadata": {},
   "source": [
    "class_to_index"
   ]
  },
  {
   "cell_type": "code",
   "execution_count": 19,
   "id": "ed9ba220-b180-4a72-9cb8-84020aa07dc3",
   "metadata": {},
   "outputs": [
    {
     "data": {
      "text/plain": [
       "{0: 'love', 1: 'anger', 2: 'sadness', 3: 'fear', 4: 'joy', 5: 'surprise'}"
      ]
     },
     "execution_count": 19,
     "metadata": {},
     "output_type": "execute_result"
    }
   ],
   "source": [
    "index_to_class"
   ]
  },
  {
   "cell_type": "code",
   "execution_count": 20,
   "id": "eea8beed-cad9-4fbf-a59a-a6f2aa98382b",
   "metadata": {},
   "outputs": [],
   "source": [
    "names_to_ids = lambda labels: np.array([class_to_index.get(x) for x in labels])"
   ]
  },
  {
   "cell_type": "code",
   "execution_count": 21,
   "id": "f59fe370-fe07-4db2-929d-85e99169f056",
   "metadata": {},
   "outputs": [
    {
     "name": "stdout",
     "output_type": "stream",
     "text": [
      "2\n"
     ]
    }
   ],
   "source": [
    "train_labels  = names_to_ids(labels)\n",
    "print(train_labels[0])"
   ]
  },
  {
   "cell_type": "markdown",
   "id": "4d4b755f-294f-4943-beef-4001a707fa39",
   "metadata": {},
   "source": [
    "## Creating the Model\n",
    "\n",
    "1. Creating the model\n",
    "2. Compiling the model"
   ]
  },
  {
   "cell_type": "code",
   "execution_count": 22,
   "id": "45e277bf-f27e-4965-873d-19c8687f7208",
   "metadata": {},
   "outputs": [],
   "source": [
    "model = tf.keras.models.Sequential([\n",
    "        tf.keras.layers.Embedding(10000,16, input_length=maxlen),\n",
    "        tf.keras.layers.Bidirectional(tf.keras.layers.LSTM(20,return_sequences=True)),\n",
    "        tf.keras.layers.Bidirectional(tf.keras.layers.LSTM(20)),\n",
    "        tf.keras.layers.Dense(6,activation='softmax')\n",
    "])\n",
    "\n",
    "model.compile(\n",
    "    loss='sparse_categorical_crossentropy',\n",
    "    optimizer='adam',\n",
    "    metrics=['accuracy']\n",
    ")"
   ]
  },
  {
   "cell_type": "code",
   "execution_count": 23,
   "id": "46604dd2-88c7-4e46-81c7-b66273c0bbde",
   "metadata": {},
   "outputs": [
    {
     "name": "stdout",
     "output_type": "stream",
     "text": [
      "Model: \"sequential\"\n",
      "_________________________________________________________________\n",
      " Layer (type)                Output Shape              Param #   \n",
      "=================================================================\n",
      " embedding (Embedding)       (None, 50, 16)            160000    \n",
      "                                                                 \n",
      " bidirectional (Bidirectiona  (None, 50, 40)           5920      \n",
      " l)                                                              \n",
      "                                                                 \n",
      " bidirectional_1 (Bidirectio  (None, 40)               9760      \n",
      " nal)                                                            \n",
      "                                                                 \n",
      " dense (Dense)               (None, 6)                 246       \n",
      "                                                                 \n",
      "=================================================================\n",
      "Total params: 175,926\n",
      "Trainable params: 175,926\n",
      "Non-trainable params: 0\n",
      "_________________________________________________________________\n"
     ]
    }
   ],
   "source": [
    "model.summary()"
   ]
  },
  {
   "cell_type": "markdown",
   "id": "fa4b1ce7-84e8-4848-8b88-3315415ce22f",
   "metadata": {},
   "source": [
    "## Training the Model\n",
    "\n",
    "1. Preparing a validation set\n",
    "2. Training the model"
   ]
  },
  {
   "cell_type": "code",
   "execution_count": 24,
   "id": "a6177d71-e25c-4caf-a3cb-b97012d1a11b",
   "metadata": {},
   "outputs": [],
   "source": [
    "# now putting validation dataset through process to be preprocessed\n",
    "\n",
    "val_tweets, val_labels = get_tweet(val)\n",
    "val_seq = get_sequences(tokenizer, val_tweets)\n",
    "val_labels = names_to_ids(val_labels)"
   ]
  },
  {
   "cell_type": "code",
   "execution_count": 25,
   "id": "374cc844-abd7-4116-aaff-d5bcfea8d4ea",
   "metadata": {},
   "outputs": [
    {
     "data": {
      "text/plain": [
       "('im feeling quite sad and sorry for myself but ill snap out of it soon', 2)"
      ]
     },
     "execution_count": 25,
     "metadata": {},
     "output_type": "execute_result"
    }
   ],
   "source": [
    "val_tweets[0], val_labels[0]"
   ]
  },
  {
   "cell_type": "code",
   "execution_count": 26,
   "id": "0acd9443-3fbc-4fd9-bd1f-15f63f15f484",
   "metadata": {},
   "outputs": [
    {
     "name": "stdout",
     "output_type": "stream",
     "text": [
      "Epoch 1/20\n",
      "500/500 [==============================] - 12s 19ms/step - loss: 1.2640 - accuracy: 0.5109 - val_loss: 0.7996 - val_accuracy: 0.7200\n",
      "Epoch 2/20\n",
      "500/500 [==============================] - 7s 13ms/step - loss: 0.5624 - accuracy: 0.8088 - val_loss: 0.5887 - val_accuracy: 0.7985\n",
      "Epoch 3/20\n",
      "500/500 [==============================] - 7s 13ms/step - loss: 0.3240 - accuracy: 0.8889 - val_loss: 0.4695 - val_accuracy: 0.8490\n",
      "Epoch 4/20\n",
      "500/500 [==============================] - 7s 14ms/step - loss: 0.2250 - accuracy: 0.9258 - val_loss: 0.4244 - val_accuracy: 0.8655\n",
      "Epoch 5/20\n",
      "500/500 [==============================] - 7s 14ms/step - loss: 0.1643 - accuracy: 0.9484 - val_loss: 0.4177 - val_accuracy: 0.8690\n",
      "Epoch 6/20\n",
      "500/500 [==============================] - 7s 14ms/step - loss: 0.1263 - accuracy: 0.9614 - val_loss: 0.4288 - val_accuracy: 0.8690\n",
      "Epoch 7/20\n",
      "500/500 [==============================] - 7s 15ms/step - loss: 0.1123 - accuracy: 0.9659 - val_loss: 0.4103 - val_accuracy: 0.8790\n",
      "Epoch 8/20\n",
      "500/500 [==============================] - 7s 15ms/step - loss: 0.1033 - accuracy: 0.9679 - val_loss: 0.4052 - val_accuracy: 0.8850\n",
      "Epoch 9/20\n",
      "500/500 [==============================] - 7s 14ms/step - loss: 0.0796 - accuracy: 0.9751 - val_loss: 0.4423 - val_accuracy: 0.8770\n",
      "Epoch 10/20\n",
      "500/500 [==============================] - 7s 14ms/step - loss: 0.0687 - accuracy: 0.9798 - val_loss: 0.4425 - val_accuracy: 0.8880\n",
      "Epoch 11/20\n",
      "500/500 [==============================] - 7s 14ms/step - loss: 0.0677 - accuracy: 0.9791 - val_loss: 0.4224 - val_accuracy: 0.8840\n",
      "Epoch 12/20\n",
      "500/500 [==============================] - 7s 14ms/step - loss: 0.0526 - accuracy: 0.9830 - val_loss: 0.4519 - val_accuracy: 0.8820\n"
     ]
    }
   ],
   "source": [
    "# fitting the data into the model to run and test accuracy on prediction\n",
    "\n",
    "h = model.fit(\n",
    "    padded_train_seq, \n",
    "    train_labels, \n",
    "    validation_data=(val_seq, val_labels),\n",
    "    epochs=20,\n",
    "    callbacks=[\n",
    "               tf.keras.callbacks.EarlyStopping(monitor='val_accuracy', patience=2) # stop running if val accuracy begins to drop\n",
    "    ]\n",
    ")"
   ]
  },
  {
   "cell_type": "markdown",
   "id": "005d3986-fa36-4ea0-adc0-f0e1e1e9f534",
   "metadata": {},
   "source": [
    "## Evaluating the Model\n",
    "\n",
    "1. Visualizing training history\n",
    "2. Prepare a test set\n",
    "3. A look at individual predictions on the test set\n",
    "4. A loook at all predictions on the test set"
   ]
  },
  {
   "cell_type": "code",
   "execution_count": 27,
   "id": "ccfe7b42-691d-446c-a6a8-2aad022b6ef7",
   "metadata": {},
   "outputs": [
    {
     "data": {
      "image/png": "[encoded data removed]",
      "text/plain": [
       "<Figure size 1152x432 with 2 Axes>"
      ]
     },
     "metadata": {
      "needs_background": "light"
     },
     "output_type": "display_data"
    }
   ],
   "source": [
    "# 88% prediction on the validation set\n",
    "# now using the function from the beginning to understand how the model adapted\n",
    "\n",
    "show_history(h)"
   ]
  },
  {
   "cell_type": "code",
   "execution_count": 28,
   "id": "2407fec0-c5fc-41de-a6eb-ad0a15e87b7c",
   "metadata": {},
   "outputs": [],
   "source": [
    "# now it's time to preprocess the test dataset and evalute the model prediction on it\n",
    "\n",
    "test_tweets, test_labels = get_tweet(test)\n",
    "test_seq = get_sequences(tokenizer, test_tweets)\n",
    "test_labels = names_to_ids(test_labels)"
   ]
  },
  {
   "cell_type": "code",
   "execution_count": 30,
   "id": "b7157cbc-5865-4f44-b091-9f4417526337",
   "metadata": {},
   "outputs": [
    {
     "name": "stdout",
     "output_type": "stream",
     "text": [
      "63/63 [==============================] - 0s 4ms/step - loss: 0.4881 - accuracy: 0.8775\n"
     ]
    }
   ],
   "source": [
    "pred_eval = model.evaluate(test_seq, test_labels) # 88% prediction accuracy on this dataset as well"
   ]
  },
  {
   "cell_type": "code",
   "execution_count": 31,
   "id": "c5d9692e-4e34-4fa4-8f19-dfb66b463a57",
   "metadata": {},
   "outputs": [
    {
     "name": "stdout",
     "output_type": "stream",
     "text": [
      "Sentence: i feel amused looking at the little turtle who sneaked in with them\n",
      "Emotion: joy\n",
      "Predicted Emotion: joy \n",
      "\n",
      "Sentence: i did feel things it was often just repressed fear and anxiety and distrust\n",
      "Emotion: sadness\n",
      "Predicted Emotion: sadness \n",
      "\n",
      "Sentence: i feel like my room is messy if theyre open\n",
      "Emotion: sadness\n",
      "Predicted Emotion: sadness \n",
      "\n"
     ]
    }
   ],
   "source": [
    "# creating a function to print the sentence, emotion and the models predicted emotion below\n",
    "\n",
    "for x in range(0,3):\n",
    "    i = random.randint(0, len(test_labels) - 1)\n",
    "    \n",
    "    print('Sentence:', test_tweets[i])\n",
    "    print('Emotion:', index_to_class[test_labels[i]])\n",
    "    \n",
    "    p = model.predict(np.expand_dims(test_seq[i], axis = 0))[0]\n",
    "    pred_class = index_to_class[np.argmax(p).astype('uint8')]\n",
    "    \n",
    "    print('Predicted Emotion:', pred_class, '\\n')"
   ]
  },
  {
   "cell_type": "code",
   "execution_count": 33,
   "id": "19c4088f-1d5a-483e-ac93-c9389956ffc3",
   "metadata": {},
   "outputs": [],
   "source": [
    "preds = np.argmax(model.predict(test_seq), axis = -1) # storing predictions into a variable for the confusion matrix"
   ]
  },
  {
   "cell_type": "code",
   "execution_count": 34,
   "id": "3c573cbf-036e-481a-906f-93d55a1e316c",
   "metadata": {},
   "outputs": [
    {
     "data": {
      "image/png": "[encoded data removed]",
      "text/plain": [
       "<Figure size 576x576 with 2 Axes>"
      ]
     },
     "metadata": {
      "needs_background": "light"
     },
     "output_type": "display_data"
    }
   ],
   "source": [
    "show_confusion_matrix(test_labels, preds, list(classes))"
   ]
  },
  {
   "cell_type": "markdown",
   "id": "32b30cbe-eec6-4eb5-a140-1c133ea74334",
   "metadata": {},
   "source": [
    "### Based on the confusion matrix above:\n",
    "\n",
    "+ The model struggled differentiating between Love and Joy than in most cases\n",
    "+ Surprise and Fear was another case of where the model was trouble differentiating"
   ]
  }
 ],
 "metadata": {
  "kernelspec": {
   "display_name": "Python 3",
   "language": "python",
   "name": "python3"
  },
  "language_info": {
   "codemirror_mode": {
    "name": "ipython",
    "version": 3
   },
   "file_extension": ".py",
   "mimetype": "text/x-python",
   "name": "python",
   "nbconvert_exporter": "python",
   "pygments_lexer": "ipython3",
   "version": "3.8.8"
  }
 },
 "nbformat": 4,
 "nbformat_minor": 5
}
